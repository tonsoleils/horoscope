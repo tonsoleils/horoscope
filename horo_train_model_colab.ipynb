{
  "cells": [
    {
      "cell_type": "markdown",
      "source": [
        "Проверяем, что у нас есть доступ к вычислениям на видеокарте."
      ],
      "metadata": {
        "id": "ePHrBOQ-z8jE"
      }
    },
    {
      "cell_type": "code",
      "execution_count": 1,
      "metadata": {
        "colab": {
          "base_uri": "https://localhost:8080/"
        },
        "id": "t39eVOGUKPrp",
        "outputId": "06020b6c-8fb5-4286-b7cb-371baf42ddf1"
      },
      "outputs": [
        {
          "output_type": "stream",
          "name": "stdout",
          "text": [
            "nvcc: NVIDIA (R) Cuda compiler driver\n",
            "Copyright (c) 2005-2021 NVIDIA Corporation\n",
            "Built on Sun_Feb_14_21:12:58_PST_2021\n",
            "Cuda compilation tools, release 11.2, V11.2.152\n",
            "Build cuda_11.2.r11.2/compiler.29618528_0\n"
          ]
        }
      ],
      "source": [
        "!nvcc --version"
      ]
    },
    {
      "cell_type": "markdown",
      "source": [
        "Устанавливаем необходимые утилиты."
      ],
      "metadata": {
        "id": "fLGhliOy0EeH"
      }
    },
    {
      "cell_type": "code",
      "execution_count": 2,
      "metadata": {
        "colab": {
          "base_uri": "https://localhost:8080/"
        },
        "id": "1jeHnOS3KcPz",
        "outputId": "083a284e-e69a-4441-9b86-e5fa226554e8"
      },
      "outputs": [
        {
          "output_type": "stream",
          "name": "stdout",
          "text": [
            "Reading package lists... Done\n",
            "Building dependency tree       \n",
            "Reading state information... Done\n",
            "The following package was automatically installed and is no longer required:\n",
            "  libnvidia-common-460\n",
            "Use 'apt autoremove' to remove it.\n",
            "The following additional packages will be installed:\n",
            "  binfmt-support libclang-common-9-dev libclang-cpp9 libclang1-9 libffi-dev\n",
            "  libllvm9 libomp-9-dev libomp5-9 libpfm4 llvm-9-runtime python-chardet\n",
            "  python-pkg-resources python-pygments python-yaml python3-pkg-resources\n",
            "  python3-pygments python3-yaml\n",
            "Suggested packages:\n",
            "  clang-9-doc libomp-9-doc llvm-9-doc python-setuptools ttf-bitstream-vera\n",
            "  python3-setuptools\n",
            "The following NEW packages will be installed:\n",
            "  binfmt-support clang-9 libclang-common-9-dev libclang-cpp9 libclang1-9\n",
            "  libffi-dev libllvm9 libomp-9-dev libomp5-9 libpfm4 llvm-9 llvm-9-dev\n",
            "  llvm-9-runtime llvm-9-tools python-chardet python-pkg-resources\n",
            "  python-pygments python-yaml python3-pkg-resources python3-pygments\n",
            "  python3-yaml\n",
            "0 upgraded, 21 newly installed, 0 to remove and 27 not upgraded.\n",
            "Need to get 85.9 MB of archives.\n",
            "After this operation, 511 MB of additional disk space will be used.\n",
            "Get:1 http://archive.ubuntu.com/ubuntu bionic/main amd64 python3-yaml amd64 3.12-1build2 [109 kB]\n",
            "Get:2 http://archive.ubuntu.com/ubuntu bionic/main amd64 binfmt-support amd64 2.1.8-2 [51.6 kB]\n",
            "Get:3 http://archive.ubuntu.com/ubuntu bionic-updates/main amd64 libllvm9 amd64 1:9-2~ubuntu18.04.2 [14.8 MB]\n",
            "Get:4 http://archive.ubuntu.com/ubuntu bionic-updates/universe amd64 libclang-cpp9 amd64 1:9-2~ubuntu18.04.2 [25.1 MB]\n",
            "Get:5 http://archive.ubuntu.com/ubuntu bionic-updates/universe amd64 libclang-common-9-dev amd64 1:9-2~ubuntu18.04.2 [3,861 kB]\n",
            "Get:6 http://archive.ubuntu.com/ubuntu bionic-updates/universe amd64 libclang1-9 amd64 1:9-2~ubuntu18.04.2 [6,701 kB]\n",
            "Get:7 http://archive.ubuntu.com/ubuntu bionic-updates/universe amd64 clang-9 amd64 1:9-2~ubuntu18.04.2 [1,109 kB]\n",
            "Get:8 http://archive.ubuntu.com/ubuntu bionic-updates/universe amd64 libomp5-9 amd64 1:9-2~ubuntu18.04.2 [299 kB]\n",
            "Get:9 http://archive.ubuntu.com/ubuntu bionic-updates/universe amd64 libomp-9-dev amd64 1:9-2~ubuntu18.04.2 [58.6 kB]\n",
            "Get:10 http://archive.ubuntu.com/ubuntu bionic-updates/universe amd64 llvm-9-runtime amd64 1:9-2~ubuntu18.04.2 [176 kB]\n",
            "Get:11 http://archive.ubuntu.com/ubuntu bionic/main amd64 libpfm4 amd64 4.9.0-2 [225 kB]\n",
            "Get:12 http://archive.ubuntu.com/ubuntu bionic-updates/universe amd64 llvm-9 amd64 1:9-2~ubuntu18.04.2 [4,874 kB]\n",
            "Get:13 http://archive.ubuntu.com/ubuntu bionic/main amd64 libffi-dev amd64 3.2.1-8 [156 kB]\n",
            "Get:14 http://archive.ubuntu.com/ubuntu bionic-updates/main amd64 python-pygments all 2.2.0+dfsg-1ubuntu0.2 [576 kB]\n",
            "Get:15 http://archive.ubuntu.com/ubuntu bionic/main amd64 python-yaml amd64 3.12-1build2 [115 kB]\n",
            "Get:16 http://archive.ubuntu.com/ubuntu bionic-updates/main amd64 python3-pygments all 2.2.0+dfsg-1ubuntu0.2 [574 kB]\n",
            "Get:17 http://archive.ubuntu.com/ubuntu bionic-updates/universe amd64 llvm-9-tools amd64 1:9-2~ubuntu18.04.2 [250 kB]\n",
            "Get:18 http://archive.ubuntu.com/ubuntu bionic-updates/universe amd64 llvm-9-dev amd64 1:9-2~ubuntu18.04.2 [26.6 MB]\n",
            "Get:19 http://archive.ubuntu.com/ubuntu bionic/main amd64 python-pkg-resources all 39.0.1-2 [128 kB]\n",
            "Get:20 http://archive.ubuntu.com/ubuntu bionic/main amd64 python-chardet all 3.0.4-1 [80.3 kB]\n",
            "Get:21 http://archive.ubuntu.com/ubuntu bionic/main amd64 python3-pkg-resources all 39.0.1-2 [98.8 kB]\n",
            "Fetched 85.9 MB in 4s (23.5 MB/s)\n",
            "Selecting previously unselected package python3-yaml.\n",
            "(Reading database ... 123942 files and directories currently installed.)\n",
            "Preparing to unpack .../00-python3-yaml_3.12-1build2_amd64.deb ...\n",
            "Unpacking python3-yaml (3.12-1build2) ...\n",
            "Selecting previously unselected package binfmt-support.\n",
            "Preparing to unpack .../01-binfmt-support_2.1.8-2_amd64.deb ...\n",
            "Unpacking binfmt-support (2.1.8-2) ...\n",
            "Selecting previously unselected package libllvm9:amd64.\n",
            "Preparing to unpack .../02-libllvm9_1%3a9-2~ubuntu18.04.2_amd64.deb ...\n",
            "Unpacking libllvm9:amd64 (1:9-2~ubuntu18.04.2) ...\n",
            "Selecting previously unselected package libclang-cpp9.\n",
            "Preparing to unpack .../03-libclang-cpp9_1%3a9-2~ubuntu18.04.2_amd64.deb ...\n",
            "Unpacking libclang-cpp9 (1:9-2~ubuntu18.04.2) ...\n",
            "Selecting previously unselected package libclang-common-9-dev.\n",
            "Preparing to unpack .../04-libclang-common-9-dev_1%3a9-2~ubuntu18.04.2_amd64.deb ...\n",
            "Unpacking libclang-common-9-dev (1:9-2~ubuntu18.04.2) ...\n",
            "Selecting previously unselected package libclang1-9.\n",
            "Preparing to unpack .../05-libclang1-9_1%3a9-2~ubuntu18.04.2_amd64.deb ...\n",
            "Unpacking libclang1-9 (1:9-2~ubuntu18.04.2) ...\n",
            "Selecting previously unselected package clang-9.\n",
            "Preparing to unpack .../06-clang-9_1%3a9-2~ubuntu18.04.2_amd64.deb ...\n",
            "Unpacking clang-9 (1:9-2~ubuntu18.04.2) ...\n",
            "Selecting previously unselected package libomp5-9:amd64.\n",
            "Preparing to unpack .../07-libomp5-9_1%3a9-2~ubuntu18.04.2_amd64.deb ...\n",
            "Unpacking libomp5-9:amd64 (1:9-2~ubuntu18.04.2) ...\n",
            "Selecting previously unselected package libomp-9-dev.\n",
            "Preparing to unpack .../08-libomp-9-dev_1%3a9-2~ubuntu18.04.2_amd64.deb ...\n",
            "Unpacking libomp-9-dev (1:9-2~ubuntu18.04.2) ...\n",
            "Selecting previously unselected package llvm-9-runtime.\n",
            "Preparing to unpack .../09-llvm-9-runtime_1%3a9-2~ubuntu18.04.2_amd64.deb ...\n",
            "Unpacking llvm-9-runtime (1:9-2~ubuntu18.04.2) ...\n",
            "Selecting previously unselected package libpfm4:amd64.\n",
            "Preparing to unpack .../10-libpfm4_4.9.0-2_amd64.deb ...\n",
            "Unpacking libpfm4:amd64 (4.9.0-2) ...\n",
            "Selecting previously unselected package llvm-9.\n",
            "Preparing to unpack .../11-llvm-9_1%3a9-2~ubuntu18.04.2_amd64.deb ...\n",
            "Unpacking llvm-9 (1:9-2~ubuntu18.04.2) ...\n",
            "Selecting previously unselected package libffi-dev:amd64.\n",
            "Preparing to unpack .../12-libffi-dev_3.2.1-8_amd64.deb ...\n",
            "Unpacking libffi-dev:amd64 (3.2.1-8) ...\n",
            "Selecting previously unselected package python-pygments.\n",
            "Preparing to unpack .../13-python-pygments_2.2.0+dfsg-1ubuntu0.2_all.deb ...\n",
            "Unpacking python-pygments (2.2.0+dfsg-1ubuntu0.2) ...\n",
            "Selecting previously unselected package python-yaml.\n",
            "Preparing to unpack .../14-python-yaml_3.12-1build2_amd64.deb ...\n",
            "Unpacking python-yaml (3.12-1build2) ...\n",
            "Selecting previously unselected package python3-pygments.\n",
            "Preparing to unpack .../15-python3-pygments_2.2.0+dfsg-1ubuntu0.2_all.deb ...\n",
            "Unpacking python3-pygments (2.2.0+dfsg-1ubuntu0.2) ...\n",
            "Selecting previously unselected package llvm-9-tools.\n",
            "Preparing to unpack .../16-llvm-9-tools_1%3a9-2~ubuntu18.04.2_amd64.deb ...\n",
            "Unpacking llvm-9-tools (1:9-2~ubuntu18.04.2) ...\n",
            "Selecting previously unselected package llvm-9-dev.\n",
            "Preparing to unpack .../17-llvm-9-dev_1%3a9-2~ubuntu18.04.2_amd64.deb ...\n",
            "Unpacking llvm-9-dev (1:9-2~ubuntu18.04.2) ...\n",
            "Selecting previously unselected package python-pkg-resources.\n",
            "Preparing to unpack .../18-python-pkg-resources_39.0.1-2_all.deb ...\n",
            "Unpacking python-pkg-resources (39.0.1-2) ...\n",
            "Selecting previously unselected package python-chardet.\n",
            "Preparing to unpack .../19-python-chardet_3.0.4-1_all.deb ...\n",
            "Unpacking python-chardet (3.0.4-1) ...\n",
            "Selecting previously unselected package python3-pkg-resources.\n",
            "Preparing to unpack .../20-python3-pkg-resources_39.0.1-2_all.deb ...\n",
            "Unpacking python3-pkg-resources (39.0.1-2) ...\n",
            "Setting up python3-yaml (3.12-1build2) ...\n",
            "Setting up binfmt-support (2.1.8-2) ...\n",
            "Created symlink /etc/systemd/system/multi-user.target.wants/binfmt-support.service → /lib/systemd/system/binfmt-support.service.\n",
            "invoke-rc.d: could not determine current runlevel\n",
            "invoke-rc.d: policy-rc.d denied execution of start.\n",
            "Setting up python-yaml (3.12-1build2) ...\n",
            "Setting up libffi-dev:amd64 (3.2.1-8) ...\n",
            "Setting up python3-pkg-resources (39.0.1-2) ...\n",
            "Setting up python-pkg-resources (39.0.1-2) ...\n",
            "Setting up libomp5-9:amd64 (1:9-2~ubuntu18.04.2) ...\n",
            "Setting up libpfm4:amd64 (4.9.0-2) ...\n",
            "Setting up python-pygments (2.2.0+dfsg-1ubuntu0.2) ...\n",
            "Setting up libllvm9:amd64 (1:9-2~ubuntu18.04.2) ...\n",
            "Setting up libomp-9-dev (1:9-2~ubuntu18.04.2) ...\n",
            "Setting up python3-pygments (2.2.0+dfsg-1ubuntu0.2) ...\n",
            "Setting up libclang-common-9-dev (1:9-2~ubuntu18.04.2) ...\n",
            "Setting up python-chardet (3.0.4-1) ...\n",
            "Setting up libclang1-9 (1:9-2~ubuntu18.04.2) ...\n",
            "Setting up libclang-cpp9 (1:9-2~ubuntu18.04.2) ...\n",
            "Setting up llvm-9-runtime (1:9-2~ubuntu18.04.2) ...\n",
            "Setting up llvm-9-tools (1:9-2~ubuntu18.04.2) ...\n",
            "Setting up clang-9 (1:9-2~ubuntu18.04.2) ...\n",
            "Setting up llvm-9 (1:9-2~ubuntu18.04.2) ...\n",
            "Setting up llvm-9-dev (1:9-2~ubuntu18.04.2) ...\n",
            "Processing triggers for systemd (237-3ubuntu10.56) ...\n",
            "Processing triggers for man-db (2.8.3-2ubuntu0.1) ...\n",
            "Processing triggers for libc-bin (2.27-3ubuntu1.6) ...\n"
          ]
        }
      ],
      "source": [
        "!apt-get install clang-9 llvm-9 llvm-9-dev llvm-9-tools"
      ]
    },
    {
      "cell_type": "markdown",
      "source": [
        "Получаем версию CUDA "
      ],
      "metadata": {
        "id": "AOJUToJK0OsH"
      }
    },
    {
      "cell_type": "code",
      "execution_count": 3,
      "metadata": {
        "colab": {
          "base_uri": "https://localhost:8080/"
        },
        "id": "SGKtN2NxKuCL",
        "outputId": "74a23a67-809c-45fc-a046-503ab5cba399"
      },
      "outputs": [
        {
          "output_type": "stream",
          "name": "stdout",
          "text": [
            "CUDA version: 11.2\n"
          ]
        }
      ],
      "source": [
        "import subprocess\n",
        "\n",
        "CUDA_version = [s for s in subprocess.check_output([\"nvcc\", \"--version\"]).decode(\"UTF-8\").split(\", \") if s.startswith(\"release\")][0].split(\" \")[-1]\n",
        "print(\"CUDA version:\", CUDA_version)\n",
        "\n",
        "if CUDA_version == \"10.0\":\n",
        "    torch_version_suffix = \"+cu100\"\n",
        "elif CUDA_version == \"10.1\":\n",
        "    torch_version_suffix = \"+cu101\"\n",
        "elif CUDA_version == \"10.2\":\n",
        "    torch_version_suffix = \"\"\n",
        "else:\n",
        "    torch_version_suffix = \"+cu110\""
      ]
    },
    {
      "cell_type": "markdown",
      "source": [
        "Устанавливаем соответствующую CUDA версию библиотеки torch"
      ],
      "metadata": {
        "id": "5P0lpQtj0r9w"
      }
    },
    {
      "cell_type": "code",
      "execution_count": 4,
      "metadata": {
        "colab": {
          "base_uri": "https://localhost:8080/"
        },
        "id": "2Q6KneFkKyqp",
        "outputId": "c3518cff-e68a-44ca-a5d6-9b06bdd74ad6"
      },
      "outputs": [
        {
          "output_type": "stream",
          "name": "stdout",
          "text": [
            "Looking in indexes: https://pypi.org/simple, https://us-python.pkg.dev/colab-wheels/public/simple/\n",
            "Looking in links: https://download.pytorch.org/whl/torch_stable.html\n",
            "Collecting torch==1.7.1+cu110\n",
            "  Downloading https://download.pytorch.org/whl/cu110/torch-1.7.1%2Bcu110-cp37-cp37m-linux_x86_64.whl (1156.8 MB)\n",
            "\u001b[K     |███████████████████████         | 834.1 MB 1.3 MB/s eta 0:04:15tcmalloc: large alloc 1147494400 bytes == 0x39426000 @  0x7f9791034615 0x58ead6 0x4f355e 0x4d222f 0x51041f 0x5b4ee6 0x58ff2e 0x510325 0x5b4ee6 0x58ff2e 0x50d482 0x4d00fb 0x50cb8d 0x4d00fb 0x50cb8d 0x4d00fb 0x50cb8d 0x4bac0a 0x538a76 0x590ae5 0x510280 0x5b4ee6 0x58ff2e 0x50d482 0x5b4ee6 0x58ff2e 0x50c4fc 0x58fd37 0x50ca37 0x5b4ee6 0x58ff2e\n",
            "\u001b[K     |█████████████████████████████▏  | 1055.7 MB 1.2 MB/s eta 0:01:24tcmalloc: large alloc 1434370048 bytes == 0x7da7c000 @  0x7f9791034615 0x58ead6 0x4f355e 0x4d222f 0x51041f 0x5b4ee6 0x58ff2e 0x510325 0x5b4ee6 0x58ff2e 0x50d482 0x4d00fb 0x50cb8d 0x4d00fb 0x50cb8d 0x4d00fb 0x50cb8d 0x4bac0a 0x538a76 0x590ae5 0x510280 0x5b4ee6 0x58ff2e 0x50d482 0x5b4ee6 0x58ff2e 0x50c4fc 0x58fd37 0x50ca37 0x5b4ee6 0x58ff2e\n",
            "\u001b[K     |████████████████████████████████| 1156.7 MB 1.2 MB/s eta 0:00:01tcmalloc: large alloc 1445945344 bytes == 0xd3268000 @  0x7f9791034615 0x58ead6 0x4f355e 0x4d222f 0x51041f 0x5b4ee6 0x58ff2e 0x50ca37 0x5b4ee6 0x58ff2e 0x50ca37 0x5b4ee6 0x58ff2e 0x50ca37 0x5b4ee6 0x58ff2e 0x50ca37 0x5b4ee6 0x58ff2e 0x50ca37 0x58fd37 0x50ca37 0x5b4ee6 0x58ff2e 0x50d482 0x5b4ee6 0x58ff2e 0x50d482 0x5b4ee6 0x4bad99 0x4d3249\n",
            "\u001b[K     |████████████████████████████████| 1156.8 MB 14 kB/s \n",
            "\u001b[?25hCollecting torchvision==0.8.2+cu110\n",
            "  Downloading https://download.pytorch.org/whl/cu110/torchvision-0.8.2%2Bcu110-cp37-cp37m-linux_x86_64.whl (12.9 MB)\n",
            "\u001b[K     |████████████████████████████████| 12.9 MB 57.7 MB/s \n",
            "\u001b[?25hCollecting torchaudio==0.7.2\n",
            "  Downloading torchaudio-0.7.2-cp37-cp37m-manylinux1_x86_64.whl (7.6 MB)\n",
            "\u001b[K     |████████████████████████████████| 7.6 MB 36.1 MB/s \n",
            "\u001b[?25hRequirement already satisfied: numpy in /usr/local/lib/python3.7/dist-packages (from torch==1.7.1+cu110) (1.21.6)\n",
            "Requirement already satisfied: typing-extensions in /usr/local/lib/python3.7/dist-packages (from torch==1.7.1+cu110) (4.1.1)\n",
            "Requirement already satisfied: pillow>=4.1.1 in /usr/local/lib/python3.7/dist-packages (from torchvision==0.8.2+cu110) (7.1.2)\n",
            "Installing collected packages: torch, torchvision, torchaudio\n",
            "  Attempting uninstall: torch\n",
            "    Found existing installation: torch 1.12.1+cu113\n",
            "    Uninstalling torch-1.12.1+cu113:\n",
            "      Successfully uninstalled torch-1.12.1+cu113\n",
            "  Attempting uninstall: torchvision\n",
            "    Found existing installation: torchvision 0.13.1+cu113\n",
            "    Uninstalling torchvision-0.13.1+cu113:\n",
            "      Successfully uninstalled torchvision-0.13.1+cu113\n",
            "  Attempting uninstall: torchaudio\n",
            "    Found existing installation: torchaudio 0.12.1+cu113\n",
            "    Uninstalling torchaudio-0.12.1+cu113:\n",
            "      Successfully uninstalled torchaudio-0.12.1+cu113\n",
            "\u001b[31mERROR: pip's dependency resolver does not currently take into account all the packages that are installed. This behaviour is the source of the following dependency conflicts.\n",
            "torchtext 0.13.1 requires torch==1.12.1, but you have torch 1.7.1+cu110 which is incompatible.\u001b[0m\n",
            "Successfully installed torch-1.7.1+cu110 torchaudio-0.7.2 torchvision-0.8.2+cu110\n"
          ]
        }
      ],
      "source": [
        "!pip install torch==1.7.1{torch_version_suffix} torchvision==0.8.2{torch_version_suffix} torchaudio==0.7.2 -f https://download.pytorch.org/whl/torch_stable.html"
      ]
    },
    {
      "cell_type": "markdown",
      "source": [
        "Устанавливаем библиотеку transformers"
      ],
      "metadata": {
        "id": "yIfWFBFR08c2"
      }
    },
    {
      "cell_type": "code",
      "execution_count": 5,
      "metadata": {
        "colab": {
          "base_uri": "https://localhost:8080/"
        },
        "id": "3z4HaJGoMY2H",
        "outputId": "1f5746dd-aa22-479c-b9b6-4d354582cb0e"
      },
      "outputs": [
        {
          "output_type": "stream",
          "name": "stdout",
          "text": [
            "Looking in indexes: https://pypi.org/simple, https://us-python.pkg.dev/colab-wheels/public/simple/\n",
            "Collecting transformers==3.5.1\n",
            "  Downloading transformers-3.5.1-py3-none-any.whl (1.3 MB)\n",
            "\u001b[K     |████████████████████████████████| 1.3 MB 15.7 MB/s \n",
            "\u001b[?25hRequirement already satisfied: numpy in /usr/local/lib/python3.7/dist-packages (from transformers==3.5.1) (1.21.6)\n",
            "Collecting sentencepiece==0.1.91\n",
            "  Downloading sentencepiece-0.1.91-cp37-cp37m-manylinux1_x86_64.whl (1.1 MB)\n",
            "\u001b[K     |████████████████████████████████| 1.1 MB 49.2 MB/s \n",
            "\u001b[?25hRequirement already satisfied: tqdm>=4.27 in /usr/local/lib/python3.7/dist-packages (from transformers==3.5.1) (4.64.1)\n",
            "Requirement already satisfied: filelock in /usr/local/lib/python3.7/dist-packages (from transformers==3.5.1) (3.8.0)\n",
            "Requirement already satisfied: protobuf in /usr/local/lib/python3.7/dist-packages (from transformers==3.5.1) (3.17.3)\n",
            "Collecting tokenizers==0.9.3\n",
            "  Downloading tokenizers-0.9.3-cp37-cp37m-manylinux1_x86_64.whl (2.9 MB)\n",
            "\u001b[K     |████████████████████████████████| 2.9 MB 69.2 MB/s \n",
            "\u001b[?25hRequirement already satisfied: packaging in /usr/local/lib/python3.7/dist-packages (from transformers==3.5.1) (21.3)\n",
            "Requirement already satisfied: regex!=2019.12.17 in /usr/local/lib/python3.7/dist-packages (from transformers==3.5.1) (2022.6.2)\n",
            "Collecting sacremoses\n",
            "  Downloading sacremoses-0.0.53.tar.gz (880 kB)\n",
            "\u001b[K     |████████████████████████████████| 880 kB 67.1 MB/s \n",
            "\u001b[?25hRequirement already satisfied: requests in /usr/local/lib/python3.7/dist-packages (from transformers==3.5.1) (2.23.0)\n",
            "Requirement already satisfied: pyparsing!=3.0.5,>=2.0.2 in /usr/local/lib/python3.7/dist-packages (from packaging->transformers==3.5.1) (3.0.9)\n",
            "Requirement already satisfied: six>=1.9 in /usr/local/lib/python3.7/dist-packages (from protobuf->transformers==3.5.1) (1.15.0)\n",
            "Requirement already satisfied: certifi>=2017.4.17 in /usr/local/lib/python3.7/dist-packages (from requests->transformers==3.5.1) (2022.9.24)\n",
            "Requirement already satisfied: idna<3,>=2.5 in /usr/local/lib/python3.7/dist-packages (from requests->transformers==3.5.1) (2.10)\n",
            "Requirement already satisfied: chardet<4,>=3.0.2 in /usr/local/lib/python3.7/dist-packages (from requests->transformers==3.5.1) (3.0.4)\n",
            "Requirement already satisfied: urllib3!=1.25.0,!=1.25.1,<1.26,>=1.21.1 in /usr/local/lib/python3.7/dist-packages (from requests->transformers==3.5.1) (1.24.3)\n",
            "Requirement already satisfied: click in /usr/local/lib/python3.7/dist-packages (from sacremoses->transformers==3.5.1) (7.1.2)\n",
            "Requirement already satisfied: joblib in /usr/local/lib/python3.7/dist-packages (from sacremoses->transformers==3.5.1) (1.2.0)\n",
            "Building wheels for collected packages: sacremoses\n",
            "  Building wheel for sacremoses (setup.py) ... \u001b[?25l\u001b[?25hdone\n",
            "  Created wheel for sacremoses: filename=sacremoses-0.0.53-py3-none-any.whl size=895260 sha256=e06869bb4d138cba073ce0e27fb9c684d1500c94dba958e090708ff9c4f8d18a\n",
            "  Stored in directory: /root/.cache/pip/wheels/87/39/dd/a83eeef36d0bf98e7a4d1933a4ad2d660295a40613079bafc9\n",
            "Successfully built sacremoses\n",
            "Installing collected packages: tokenizers, sentencepiece, sacremoses, transformers\n",
            "Successfully installed sacremoses-0.0.53 sentencepiece-0.1.91 tokenizers-0.9.3 transformers-3.5.1\n"
          ]
        }
      ],
      "source": [
        "!pip install transformers==3.5.1"
      ]
    },
    {
      "cell_type": "markdown",
      "source": [
        "Скачиваем репозиторий с моделями gpt3 от Сбербанка"
      ],
      "metadata": {
        "id": "lUOLBYLE1BR8"
      }
    },
    {
      "cell_type": "code",
      "execution_count": 6,
      "metadata": {
        "colab": {
          "base_uri": "https://localhost:8080/"
        },
        "id": "8nsbVLJ2LYxY",
        "outputId": "fd64da56-57fd-46d0-f083-a23e05556e1c"
      },
      "outputs": [
        {
          "output_type": "stream",
          "name": "stdout",
          "text": [
            "Cloning into 'ru-gpts'...\n",
            "remote: Enumerating objects: 686, done.\u001b[K\n",
            "remote: Counting objects: 100% (244/244), done.\u001b[K\n",
            "remote: Compressing objects: 100% (79/79), done.\u001b[K\n",
            "remote: Total 686 (delta 189), reused 165 (delta 165), pack-reused 442\u001b[K\n",
            "Receiving objects: 100% (686/686), 377.90 KiB | 18.89 MiB/s, done.\n",
            "Resolving deltas: 100% (427/427), done.\n"
          ]
        }
      ],
      "source": [
        "!git clone  https://github.com/sberbank-ai/ru-gpts"
      ]
    },
    {
      "cell_type": "markdown",
      "source": [
        "Создаем папку для модели"
      ],
      "metadata": {
        "id": "qXh7xdYl1XG5"
      }
    },
    {
      "cell_type": "code",
      "execution_count": 7,
      "metadata": {
        "id": "1pNy6qQsLcjP"
      },
      "outputs": [],
      "source": [
        "!mkdir models/"
      ]
    },
    {
      "cell_type": "markdown",
      "source": [
        "Скачиваем заранее подготовленный датасет гороскопов с dropbox"
      ],
      "metadata": {
        "id": "nAakX37w1Zq0"
      }
    },
    {
      "cell_type": "code",
      "execution_count": 8,
      "metadata": {
        "colab": {
          "base_uri": "https://localhost:8080/"
        },
        "id": "waQ-fdVsLiDm",
        "outputId": "28687a9f-c35c-4a03-d3db-c3f528fbeb9a"
      },
      "outputs": [
        {
          "output_type": "stream",
          "name": "stdout",
          "text": [
            "--2022-10-26 19:35:46--  https://www.dropbox.com/s/d29wdxilfndmx6n/horoscopes.csv?dl=0\n",
            "Resolving www.dropbox.com (www.dropbox.com)... 162.125.3.18, 2620:100:601c:18::a27d:612\n",
            "Connecting to www.dropbox.com (www.dropbox.com)|162.125.3.18|:443... connected.\n",
            "HTTP request sent, awaiting response... 302 Found\n",
            "Location: /s/raw/d29wdxilfndmx6n/horoscopes.csv [following]\n",
            "--2022-10-26 19:35:47--  https://www.dropbox.com/s/raw/d29wdxilfndmx6n/horoscopes.csv\n",
            "Reusing existing connection to www.dropbox.com:443.\n",
            "HTTP request sent, awaiting response... 302 Found\n",
            "Location: https://uc9b9b50534e6fdf475148f9cd67.dl.dropboxusercontent.com/cd/0/inline/BvlUL-71RlH4Cp2aiAxplNPH1ky8raOUAuJgYPEstDgRv1eB00ylI6X4xv3pNPVg6Sdda7AhlMZYTYObNPVDdiYKkc3FhQ3qNL6PHL5b3_ZGGBvi-S3hsKXtHJF9iXXyKOSnT7-f9OLEZV-IK6AOPz-jzg6ag6XNN1VjFH3oAQknnQ/file# [following]\n",
            "--2022-10-26 19:35:47--  https://uc9b9b50534e6fdf475148f9cd67.dl.dropboxusercontent.com/cd/0/inline/BvlUL-71RlH4Cp2aiAxplNPH1ky8raOUAuJgYPEstDgRv1eB00ylI6X4xv3pNPVg6Sdda7AhlMZYTYObNPVDdiYKkc3FhQ3qNL6PHL5b3_ZGGBvi-S3hsKXtHJF9iXXyKOSnT7-f9OLEZV-IK6AOPz-jzg6ag6XNN1VjFH3oAQknnQ/file\n",
            "Resolving uc9b9b50534e6fdf475148f9cd67.dl.dropboxusercontent.com (uc9b9b50534e6fdf475148f9cd67.dl.dropboxusercontent.com)... 162.125.6.15, 2620:100:601c:15::a27d:60f\n",
            "Connecting to uc9b9b50534e6fdf475148f9cd67.dl.dropboxusercontent.com (uc9b9b50534e6fdf475148f9cd67.dl.dropboxusercontent.com)|162.125.6.15|:443... connected.\n",
            "HTTP request sent, awaiting response... 200 OK\n",
            "Length: 67956321 (65M) [text/plain]\n",
            "Saving to: ‘horoscopes.csv’\n",
            "\n",
            "horoscopes.csv      100%[===================>]  64.81M   187MB/s    in 0.3s    \n",
            "\n",
            "2022-10-26 19:35:48 (187 MB/s) - ‘horoscopes.csv’ saved [67956321/67956321]\n",
            "\n"
          ]
        }
      ],
      "source": [
        "!wget -O horoscopes.csv https://www.dropbox.com/s/d29wdxilfndmx6n/horoscopes.csv?dl=0"
      ]
    },
    {
      "cell_type": "code",
      "execution_count": 9,
      "metadata": {
        "id": "qeZ-AqaTLl7M"
      },
      "outputs": [],
      "source": [
        "import pandas as pd"
      ]
    },
    {
      "cell_type": "markdown",
      "source": [
        "Считываем гороскоп."
      ],
      "metadata": {
        "id": "DsJ-GyXz1l3t"
      }
    },
    {
      "cell_type": "code",
      "execution_count": 10,
      "metadata": {
        "colab": {
          "base_uri": "https://localhost:8080/"
        },
        "id": "BkzqhX69Ln0F",
        "outputId": "26c188be-9788-4a70-eacb-e8b75051866e"
      },
      "outputs": [
        {
          "output_type": "execute_result",
          "data": {
            "text/plain": [
              "Index(['date', 'sign', 'text'], dtype='object')"
            ]
          },
          "metadata": {},
          "execution_count": 10
        }
      ],
      "source": [
        "data=pd.read_csv('horoscopes.csv')\n",
        "data.columns"
      ]
    },
    {
      "cell_type": "markdown",
      "source": [
        "Составляем список знаков зодиака и словарь для их перевода на русский язык."
      ],
      "metadata": {
        "id": "nwr4mX531sZp"
      }
    },
    {
      "cell_type": "code",
      "execution_count": 11,
      "metadata": {
        "id": "bn9tTKGVLq0E"
      },
      "outputs": [],
      "source": [
        "signs_r=['овен','близнецы','телец','рак','лев','дева','весы','скорпион','стрелец','козерог','водолей','рыбы']\n",
        "sign_dict={'aries':'овен',\n",
        "           'gemini':'близнецы',\n",
        "           'taurus':'телец',\n",
        "           'cancer':'рак',\n",
        "           'leo':'лев',\n",
        "           'virgo':'дева',\n",
        "           'libra':' весы',\n",
        "           'scorpio':'скорпион',\n",
        "           'sagittarius':'стрелец',\n",
        "           'capricorn':'козерог',\n",
        "           'aquarius':'водолей',\n",
        "           'pisces':'рыбы'}"
      ]
    },
    {
      "cell_type": "markdown",
      "source": [
        "Разделяем наш датасет на тренировочный и валидационный в соотношении 90/10, добавляя в начало каждого гороскопа тэг \\<s>, а в конец \\</s>."
      ],
      "metadata": {
        "id": "bJCRpPVM11Y_"
      }
    },
    {
      "cell_type": "code",
      "execution_count": 12,
      "metadata": {
        "id": "QBb5m2-0Ltb8"
      },
      "outputs": [],
      "source": [
        "with open(\"train.txt\", \"w\", encoding=\"utf-8\") as file:\n",
        "    for i,line in enumerate(data.values):\n",
        "        if i==723:\n",
        "            break\n",
        "        sign=sign_dict[line[1]]\n",
        "        text=line[2]\n",
        "        \n",
        "        context='<s>'+sign+'\\n' +text+'</s>\\n'\n",
        "        \n",
        "        file.write(context)\n",
        "file.close()\n",
        "\n",
        "with open(\"valid.txt\", \"w\", encoding=\"utf-8\") as file:\n",
        "    \n",
        "    for i,line in enumerate(data.values):\n",
        "        if i>=81:\n",
        "            sign=sign_dict[line[1]]\n",
        "            text=line[2]\n",
        "\n",
        "            context='<s>'+sign+'\\n' +text+'</s>\\n'\n",
        "\n",
        "            file.write(context)\n",
        "file.close()"
      ]
    },
    {
      "cell_type": "markdown",
      "source": [
        "Запускаем обучение модели"
      ],
      "metadata": {
        "id": "ngg0ppzu3TWF"
      }
    },
    {
      "cell_type": "code",
      "execution_count": 13,
      "metadata": {
        "colab": {
          "base_uri": "https://localhost:8080/"
        },
        "id": "IFzGqjJ-MUl0",
        "outputId": "badd45a0-f375-4ada-e985-1e6c8c6ab9bf"
      },
      "outputs": [
        {
          "output_type": "stream",
          "name": "stdout",
          "text": [
            "WARNING:__main__:Process rank: -1, device: cuda, n_gpu: 1, distributed training: False, 16-bits training: False\n",
            "Downloading: 100% 608/608 [00:00<00:00, 747kB/s]\n",
            "Downloading: 100% 1.71M/1.71M [00:00<00:00, 60.7MB/s]\n",
            "Downloading: 100% 1.27M/1.27M [00:00<00:00, 53.8MB/s]\n",
            "/usr/local/lib/python3.7/dist-packages/transformers/tokenization_utils_base.py:1423: FutureWarning: The `max_len` attribute has been deprecated and will be removed in a future version, use `model_max_length` instead.\n",
            "  FutureWarning,\n",
            "/usr/local/lib/python3.7/dist-packages/transformers/modeling_auto.py:837: FutureWarning: The class `AutoModelWithLMHead` is deprecated and will be removed in a future version. Please use `AutoModelForCausalLM` for causal language models, `AutoModelForMaskedLM` for masked language models and `AutoModelForSeq2SeqLM` for encoder-decoder models.\n",
            "  FutureWarning,\n",
            "Downloading: 100% 551M/551M [00:19<00:00, 27.6MB/s]\n",
            "Epoch:   0% 0/5 [00:00<?, ?it/s]\n",
            "Iteration:   0% 0/58 [00:00<?, ?it/s]\u001b[A\n",
            "Iteration:   2% 1/58 [00:00<00:32,  1.78it/s]\u001b[A\n",
            "Iteration:   3% 2/58 [00:00<00:24,  2.26it/s]\u001b[A\n",
            "Iteration:   5% 3/58 [00:01<00:22,  2.44it/s]\u001b[A\n",
            "Iteration:   7% 4/58 [00:01<00:21,  2.51it/s]\u001b[A\n",
            "Iteration:   9% 5/58 [00:02<00:20,  2.57it/s]\u001b[A\n",
            "Iteration:  10% 6/58 [00:02<00:19,  2.61it/s]\u001b[A\n",
            "Iteration:  12% 7/58 [00:02<00:19,  2.63it/s]\u001b[A\n",
            "Iteration:  14% 8/58 [00:03<00:18,  2.65it/s]\u001b[A\n",
            "Iteration:  16% 9/58 [00:03<00:18,  2.66it/s]\u001b[A\n",
            "Iteration:  17% 10/58 [00:03<00:18,  2.67it/s]\u001b[A\n",
            "Iteration:  19% 11/58 [00:04<00:17,  2.67it/s]\u001b[A\n",
            "Iteration:  21% 12/58 [00:04<00:17,  2.67it/s]\u001b[A\n",
            "Iteration:  22% 13/58 [00:05<00:16,  2.67it/s]\u001b[A\n",
            "Iteration:  24% 14/58 [00:05<00:16,  2.67it/s]\u001b[A\n",
            "Iteration:  26% 15/58 [00:05<00:16,  2.67it/s]\u001b[A\n",
            "Iteration:  28% 16/58 [00:06<00:15,  2.67it/s]\u001b[A\n",
            "Iteration:  29% 17/58 [00:06<00:15,  2.67it/s]\u001b[A\n",
            "Iteration:  31% 18/58 [00:06<00:14,  2.67it/s]\u001b[A\n",
            "Iteration:  33% 19/58 [00:07<00:14,  2.66it/s]\u001b[A\n",
            "Iteration:  34% 20/58 [00:07<00:14,  2.66it/s]\u001b[A\n",
            "Iteration:  36% 21/58 [00:08<00:13,  2.67it/s]\u001b[A\n",
            "Iteration:  38% 22/58 [00:08<00:13,  2.67it/s]\u001b[A\n",
            "Iteration:  40% 23/58 [00:08<00:13,  2.66it/s]\u001b[A\n",
            "Iteration:  41% 24/58 [00:09<00:12,  2.67it/s]\u001b[A\n",
            "Iteration:  43% 25/58 [00:09<00:12,  2.67it/s]\u001b[A\n",
            "Iteration:  45% 26/58 [00:09<00:12,  2.66it/s]\u001b[A\n",
            "Iteration:  47% 27/58 [00:10<00:11,  2.67it/s]\u001b[A\n",
            "Iteration:  48% 28/58 [00:10<00:11,  2.66it/s]\u001b[A\n",
            "Iteration:  50% 29/58 [00:11<00:10,  2.66it/s]\u001b[A\n",
            "Iteration:  52% 30/58 [00:11<00:10,  2.66it/s]\u001b[A\n",
            "Iteration:  53% 31/58 [00:11<00:10,  2.66it/s]\u001b[A\n",
            "Iteration:  55% 32/58 [00:12<00:09,  2.66it/s]\u001b[A\n",
            "Iteration:  57% 33/58 [00:12<00:09,  2.67it/s]\u001b[A\n",
            "Iteration:  59% 34/58 [00:12<00:09,  2.66it/s]\u001b[A\n",
            "Iteration:  60% 35/58 [00:13<00:08,  2.65it/s]\u001b[A\n",
            "Iteration:  62% 36/58 [00:13<00:08,  2.65it/s]\u001b[A\n",
            "Iteration:  64% 37/58 [00:14<00:07,  2.65it/s]\u001b[A\n",
            "Iteration:  66% 38/58 [00:14<00:07,  2.65it/s]\u001b[A\n",
            "Iteration:  67% 39/58 [00:14<00:07,  2.65it/s]\u001b[A\n",
            "Iteration:  69% 40/58 [00:15<00:06,  2.65it/s]\u001b[A\n",
            "Iteration:  71% 41/58 [00:15<00:06,  2.65it/s]\u001b[A\n",
            "Iteration:  72% 42/58 [00:15<00:06,  2.65it/s]\u001b[A\n",
            "Iteration:  74% 43/58 [00:16<00:05,  2.66it/s]\u001b[A\n",
            "Iteration:  76% 44/58 [00:16<00:05,  2.65it/s]\u001b[A\n",
            "Iteration:  78% 45/58 [00:17<00:04,  2.64it/s]\u001b[A\n",
            "Iteration:  79% 46/58 [00:17<00:04,  2.64it/s]\u001b[A\n",
            "Iteration:  81% 47/58 [00:17<00:04,  2.65it/s]\u001b[A\n",
            "Iteration:  83% 48/58 [00:18<00:03,  2.65it/s]\u001b[A\n",
            "Iteration:  84% 49/58 [00:18<00:03,  2.64it/s]\u001b[A\n",
            "Iteration:  86% 50/58 [00:18<00:03,  2.64it/s]\u001b[A\n",
            "Iteration:  88% 51/58 [00:19<00:02,  2.65it/s]\u001b[A\n",
            "Iteration:  90% 52/58 [00:19<00:02,  2.65it/s]\u001b[A\n",
            "Iteration:  91% 53/58 [00:20<00:01,  2.64it/s]\u001b[A\n",
            "Iteration:  93% 54/58 [00:20<00:01,  2.65it/s]\u001b[A\n",
            "Iteration:  95% 55/58 [00:20<00:01,  2.65it/s]\u001b[A\n",
            "Iteration:  97% 56/58 [00:21<00:00,  2.64it/s]\u001b[A\n",
            "Iteration:  98% 57/58 [00:21<00:00,  2.64it/s]\u001b[A\n",
            "Iteration: 100% 58/58 [00:21<00:00,  2.64it/s]\n",
            "Epoch:  20% 1/5 [00:21<01:27, 21.99s/it]\n",
            "Iteration:   0% 0/58 [00:00<?, ?it/s]\u001b[A\n",
            "Iteration:   2% 1/58 [00:00<00:21,  2.64it/s]\u001b[A\n",
            "Iteration:   3% 2/58 [00:00<00:21,  2.64it/s]\u001b[A\n",
            "Iteration:   5% 3/58 [00:01<00:20,  2.63it/s]\u001b[A\n",
            "Iteration:   7% 4/58 [00:01<00:20,  2.64it/s]\u001b[A\n",
            "Iteration:   9% 5/58 [00:01<00:20,  2.63it/s]\u001b[A\n",
            "Iteration:  10% 6/58 [00:02<00:19,  2.63it/s]\u001b[A\n",
            "Iteration:  12% 7/58 [00:02<00:19,  2.63it/s]\u001b[A\n",
            "Iteration:  14% 8/58 [00:03<00:18,  2.63it/s]\u001b[A\n",
            "Iteration:  16% 9/58 [00:03<00:18,  2.63it/s]\u001b[A\n",
            "Iteration:  17% 10/58 [00:03<00:18,  2.63it/s]\u001b[A\n",
            "Iteration:  19% 11/58 [00:04<00:17,  2.63it/s]\u001b[A\n",
            "Iteration:  21% 12/58 [00:04<00:17,  2.63it/s]\u001b[A\n",
            "Iteration:  22% 13/58 [00:04<00:17,  2.63it/s]\u001b[A\n",
            "Iteration:  24% 14/58 [00:05<00:16,  2.63it/s]\u001b[A\n",
            "Iteration:  26% 15/58 [00:05<00:16,  2.62it/s]\u001b[A\n",
            "Iteration:  28% 16/58 [00:06<00:15,  2.63it/s]\u001b[A\n",
            "Iteration:  29% 17/58 [00:06<00:15,  2.63it/s]\u001b[A\n",
            "Iteration:  31% 18/58 [00:06<00:15,  2.63it/s]\u001b[A\n",
            "Iteration:  33% 19/58 [00:07<00:14,  2.63it/s]\u001b[A\n",
            "Iteration:  34% 20/58 [00:07<00:14,  2.62it/s]\u001b[A\n",
            "Iteration:  36% 21/58 [00:07<00:14,  2.62it/s]\u001b[A\n",
            "Iteration:  38% 22/58 [00:08<00:13,  2.61it/s]\u001b[A\n",
            "Iteration:  40% 23/58 [00:08<00:13,  2.62it/s]\u001b[A\n",
            "Iteration:  41% 24/58 [00:09<00:12,  2.62it/s]\u001b[A\n",
            "Iteration:  43% 25/58 [00:09<00:12,  2.59it/s]\u001b[A\n",
            "Iteration:  45% 26/58 [00:09<00:12,  2.59it/s]\u001b[A\n",
            "Iteration:  47% 27/58 [00:10<00:11,  2.60it/s]\u001b[A\n",
            "Iteration:  48% 28/58 [00:10<00:11,  2.61it/s]\u001b[A\n",
            "Iteration:  50% 29/58 [00:11<00:11,  2.60it/s]\u001b[A\n",
            "Iteration:  52% 30/58 [00:11<00:10,  2.60it/s]\u001b[A\n",
            "Iteration:  53% 31/58 [00:11<00:10,  2.61it/s]\u001b[A\n",
            "Iteration:  55% 32/58 [00:12<00:09,  2.61it/s]\u001b[A\n",
            "Iteration:  57% 33/58 [00:12<00:09,  2.61it/s]\u001b[A\n",
            "Iteration:  59% 34/58 [00:12<00:09,  2.61it/s]\u001b[A\n",
            "Iteration:  60% 35/58 [00:13<00:08,  2.61it/s]\u001b[A\n",
            "Iteration:  62% 36/58 [00:13<00:08,  2.61it/s]\u001b[A\n",
            "Iteration:  64% 37/58 [00:14<00:08,  2.61it/s]\u001b[A\n",
            "Iteration:  66% 38/58 [00:14<00:07,  2.61it/s]\u001b[A\n",
            "Iteration:  67% 39/58 [00:14<00:07,  2.60it/s]\u001b[A\n",
            "Iteration:  69% 40/58 [00:15<00:06,  2.60it/s]\u001b[A\n",
            "Iteration:  71% 41/58 [00:15<00:06,  2.60it/s]\u001b[A\n",
            "Iteration:  72% 42/58 [00:16<00:06,  2.60it/s]\u001b[A\n",
            "Iteration:  74% 43/58 [00:16<00:05,  2.60it/s]\u001b[A\n",
            "Iteration:  76% 44/58 [00:16<00:05,  2.60it/s]\u001b[A\n",
            "Iteration:  78% 45/58 [00:17<00:05,  2.59it/s]\u001b[A\n",
            "Iteration:  79% 46/58 [00:17<00:04,  2.59it/s]\u001b[A\n",
            "Iteration:  81% 47/58 [00:17<00:04,  2.59it/s]\u001b[A\n",
            "Iteration:  83% 48/58 [00:18<00:03,  2.59it/s]\u001b[A\n",
            "Iteration:  84% 49/58 [00:18<00:03,  2.59it/s]\u001b[A\n",
            "Iteration:  86% 50/58 [00:19<00:03,  2.59it/s]\u001b[A\n",
            "Iteration:  88% 51/58 [00:19<00:02,  2.59it/s]\u001b[A\n",
            "Iteration:  90% 52/58 [00:19<00:02,  2.59it/s]\u001b[A\n",
            "Iteration:  91% 53/58 [00:20<00:01,  2.59it/s]\u001b[A\n",
            "Iteration:  93% 54/58 [00:20<00:01,  2.59it/s]\u001b[A\n",
            "Iteration:  95% 55/58 [00:21<00:01,  2.59it/s]\u001b[A\n",
            "Iteration:  97% 56/58 [00:21<00:00,  2.58it/s]\u001b[A\n",
            "Iteration:  98% 57/58 [00:21<00:00,  2.58it/s]\u001b[A\n",
            "Iteration: 100% 58/58 [00:22<00:00,  2.61it/s]\n",
            "Epoch:  40% 2/5 [00:44<01:06, 22.13s/it]\n",
            "Iteration:   0% 0/58 [00:00<?, ?it/s]\u001b[A\n",
            "Iteration:   2% 1/58 [00:00<00:22,  2.59it/s]\u001b[A\n",
            "Iteration:   3% 2/58 [00:00<00:21,  2.58it/s]\u001b[A\n",
            "Iteration:   5% 3/58 [00:01<00:21,  2.58it/s]\u001b[A\n",
            "Iteration:   7% 4/58 [00:01<00:20,  2.58it/s]\u001b[A\n",
            "Iteration:   9% 5/58 [00:01<00:20,  2.58it/s]\u001b[A\n",
            "Iteration:  10% 6/58 [00:02<00:20,  2.58it/s]\u001b[A\n",
            "Iteration:  12% 7/58 [00:02<00:19,  2.58it/s]\u001b[A\n",
            "Iteration:  14% 8/58 [00:03<00:19,  2.56it/s]\u001b[A\n",
            "Iteration:  16% 9/58 [00:03<00:19,  2.57it/s]\u001b[A\n",
            "Iteration:  17% 10/58 [00:03<00:18,  2.57it/s]\u001b[A\n",
            "Iteration:  19% 11/58 [00:04<00:18,  2.57it/s]\u001b[A\n",
            "Iteration:  21% 12/58 [00:04<00:17,  2.56it/s]\u001b[A\n",
            "Iteration:  22% 13/58 [00:05<00:17,  2.57it/s]\u001b[A\n",
            "Iteration:  24% 14/58 [00:05<00:17,  2.57it/s]\u001b[A\n",
            "Iteration:  26% 15/58 [00:05<00:16,  2.57it/s]\u001b[A\n",
            "Iteration:  28% 16/58 [00:06<00:16,  2.57it/s]\u001b[A\n",
            "Iteration:  29% 17/58 [00:06<00:15,  2.57it/s]\u001b[A\n",
            "Iteration:  31% 18/58 [00:06<00:15,  2.57it/s]\u001b[A\n",
            "Iteration:  33% 19/58 [00:07<00:15,  2.57it/s]\u001b[A\n",
            "Iteration:  34% 20/58 [00:07<00:14,  2.57it/s]\u001b[A\n",
            "Iteration:  36% 21/58 [00:08<00:14,  2.57it/s]\u001b[A\n",
            "Iteration:  38% 22/58 [00:08<00:14,  2.57it/s]\u001b[A\n",
            "Iteration:  40% 23/58 [00:08<00:13,  2.57it/s]\u001b[A\n",
            "Iteration:  41% 24/58 [00:09<00:13,  2.57it/s]\u001b[A\n",
            "Iteration:  43% 25/58 [00:09<00:12,  2.57it/s]\u001b[A\n",
            "Iteration:  45% 26/58 [00:10<00:12,  2.57it/s]\u001b[A\n",
            "Iteration:  47% 27/58 [00:10<00:12,  2.57it/s]\u001b[A\n",
            "Iteration:  48% 28/58 [00:10<00:11,  2.57it/s]\u001b[A\n",
            "Iteration:  50% 29/58 [00:11<00:11,  2.56it/s]\u001b[A\n",
            "Iteration:  52% 30/58 [00:11<00:10,  2.56it/s]\u001b[A\n",
            "Iteration:  53% 31/58 [00:12<00:10,  2.56it/s]\u001b[A\n",
            "Iteration:  55% 32/58 [00:12<00:10,  2.56it/s]\u001b[A\n",
            "Iteration:  57% 33/58 [00:12<00:09,  2.55it/s]\u001b[A\n",
            "Iteration:  59% 34/58 [00:13<00:09,  2.55it/s]\u001b[A\n",
            "Iteration:  60% 35/58 [00:13<00:09,  2.55it/s]\u001b[A\n",
            "Iteration:  62% 36/58 [00:14<00:08,  2.55it/s]\u001b[A\n",
            "Iteration:  64% 37/58 [00:14<00:08,  2.55it/s]\u001b[A\n",
            "Iteration:  66% 38/58 [00:14<00:07,  2.55it/s]\u001b[A\n",
            "Iteration:  67% 39/58 [00:15<00:07,  2.55it/s]\u001b[A\n",
            "Iteration:  69% 40/58 [00:15<00:07,  2.54it/s]\u001b[A\n",
            "Iteration:  71% 41/58 [00:15<00:06,  2.54it/s]\u001b[A\n",
            "Iteration:  72% 42/58 [00:16<00:06,  2.55it/s]\u001b[A\n",
            "Iteration:  74% 43/58 [00:16<00:05,  2.54it/s]\u001b[A\n",
            "Iteration:  76% 44/58 [00:17<00:05,  2.54it/s]\u001b[A\n",
            "Iteration:  78% 45/58 [00:17<00:05,  2.54it/s]\u001b[A\n",
            "Iteration:  79% 46/58 [00:17<00:04,  2.54it/s]\u001b[A\n",
            "Iteration:  81% 47/58 [00:18<00:04,  2.54it/s]\u001b[A\n",
            "Iteration:  83% 48/58 [00:18<00:03,  2.54it/s]\u001b[A\n",
            "Iteration:  84% 49/58 [00:19<00:03,  2.54it/s]\u001b[A\n",
            "Iteration:  86% 50/58 [00:19<00:03,  2.54it/s]\u001b[A\n",
            "Iteration:  88% 51/58 [00:19<00:02,  2.54it/s]\u001b[A\n",
            "Iteration:  90% 52/58 [00:20<00:02,  2.53it/s]\u001b[A\n",
            "Iteration:  91% 53/58 [00:20<00:01,  2.53it/s]\u001b[A\n",
            "Iteration:  93% 54/58 [00:21<00:01,  2.53it/s]\u001b[A\n",
            "Iteration:  95% 55/58 [00:21<00:01,  2.52it/s]\u001b[A\n",
            "Iteration:  97% 56/58 [00:21<00:00,  2.52it/s]\u001b[A\n",
            "Iteration:  98% 57/58 [00:22<00:00,  2.53it/s]\u001b[A\n",
            "Iteration: 100% 58/58 [00:22<00:00,  2.55it/s]\n",
            "Epoch:  60% 3/5 [01:06<00:44, 22.40s/it]\n",
            "Iteration:   0% 0/58 [00:00<?, ?it/s]\u001b[A\n",
            "Iteration:   2% 1/58 [00:00<00:22,  2.54it/s]\u001b[A\n",
            "Iteration:   3% 2/58 [00:00<00:22,  2.52it/s]\u001b[A\n",
            "Iteration:   5% 3/58 [00:01<00:21,  2.52it/s]\u001b[A\n",
            "Iteration:   7% 4/58 [00:01<00:21,  2.52it/s]\u001b[A\n",
            "Iteration:   9% 5/58 [00:01<00:21,  2.52it/s]\u001b[A\n",
            "Iteration:  10% 6/58 [00:02<00:20,  2.52it/s]\u001b[A\n",
            "Iteration:  12% 7/58 [00:02<00:20,  2.53it/s]\u001b[A\n",
            "Iteration:  14% 8/58 [00:03<00:19,  2.52it/s]\u001b[A\n",
            "Iteration:  16% 9/58 [00:03<00:19,  2.52it/s]\u001b[A\n",
            "Iteration:  17% 10/58 [00:03<00:19,  2.52it/s]\u001b[A\n",
            "Iteration:  19% 11/58 [00:04<00:18,  2.52it/s]\u001b[A\n",
            "Iteration:  21% 12/58 [00:04<00:18,  2.52it/s]\u001b[A\n",
            "Iteration:  22% 13/58 [00:05<00:17,  2.52it/s]\u001b[A\n",
            "Iteration:  24% 14/58 [00:05<00:17,  2.52it/s]\u001b[A\n",
            "Iteration:  26% 15/58 [00:05<00:17,  2.51it/s]\u001b[A\n",
            "Iteration:  28% 16/58 [00:06<00:16,  2.51it/s]\u001b[A\n",
            "Iteration:  29% 17/58 [00:06<00:16,  2.51it/s]\u001b[A\n",
            "Iteration:  31% 18/58 [00:07<00:15,  2.51it/s]\u001b[A\n",
            "Iteration:  33% 19/58 [00:07<00:15,  2.51it/s]\u001b[A\n",
            "Iteration:  34% 20/58 [00:07<00:15,  2.50it/s]\u001b[A\n",
            "Iteration:  36% 21/58 [00:08<00:14,  2.50it/s]\u001b[A\n",
            "Iteration:  38% 22/58 [00:08<00:14,  2.50it/s]\u001b[A\n",
            "Iteration:  40% 23/58 [00:09<00:14,  2.49it/s]\u001b[A\n",
            "Iteration:  41% 24/58 [00:09<00:13,  2.50it/s]\u001b[A\n",
            "Iteration:  43% 25/58 [00:09<00:13,  2.50it/s]\u001b[A\n",
            "Iteration:  45% 26/58 [00:10<00:12,  2.50it/s]\u001b[A\n",
            "Iteration:  47% 27/58 [00:10<00:12,  2.50it/s]\u001b[A\n",
            "Iteration:  48% 28/58 [00:11<00:12,  2.49it/s]\u001b[A\n",
            "Iteration:  50% 29/58 [00:11<00:11,  2.49it/s]\u001b[A\n",
            "Iteration:  52% 30/58 [00:11<00:11,  2.49it/s]\u001b[A\n",
            "Iteration:  53% 31/58 [00:12<00:10,  2.49it/s]\u001b[A\n",
            "Iteration:  55% 32/58 [00:12<00:10,  2.48it/s]\u001b[A\n",
            "Iteration:  57% 33/58 [00:13<00:10,  2.48it/s]\u001b[A\n",
            "Iteration:  59% 34/58 [00:13<00:09,  2.48it/s]\u001b[A\n",
            "Iteration:  60% 35/58 [00:13<00:09,  2.47it/s]\u001b[A\n",
            "Iteration:  62% 36/58 [00:14<00:08,  2.47it/s]\u001b[A\n",
            "Iteration:  64% 37/58 [00:14<00:08,  2.46it/s]\u001b[A\n",
            "Iteration:  66% 38/58 [00:15<00:08,  2.46it/s]\u001b[A\n",
            "Iteration:  67% 39/58 [00:15<00:07,  2.46it/s]\u001b[A\n",
            "Iteration:  69% 40/58 [00:16<00:07,  2.45it/s]\u001b[A\n",
            "Iteration:  71% 41/58 [00:16<00:06,  2.46it/s]\u001b[A\n",
            "Iteration:  72% 42/58 [00:16<00:06,  2.46it/s]\u001b[A\n",
            "Iteration:  74% 43/58 [00:17<00:06,  2.47it/s]\u001b[A\n",
            "Iteration:  76% 44/58 [00:17<00:05,  2.47it/s]\u001b[A\n",
            "Iteration:  78% 45/58 [00:18<00:05,  2.47it/s]\u001b[A\n",
            "Iteration:  79% 46/58 [00:18<00:04,  2.47it/s]\u001b[A\n",
            "Iteration:  81% 47/58 [00:18<00:04,  2.46it/s]\u001b[A\n",
            "Iteration:  83% 48/58 [00:19<00:04,  2.46it/s]\u001b[A\n",
            "Iteration:  84% 49/58 [00:19<00:03,  2.46it/s]\u001b[A\n",
            "Iteration:  86% 50/58 [00:20<00:03,  2.46it/s]\u001b[A\n",
            "Iteration:  88% 51/58 [00:20<00:02,  2.46it/s]\u001b[A\n",
            "Iteration:  90% 52/58 [00:20<00:02,  2.41it/s]\u001b[A\n",
            "Iteration:  91% 53/58 [00:21<00:02,  2.42it/s]\u001b[A\n",
            "Iteration:  93% 54/58 [00:21<00:01,  2.43it/s]\u001b[A\n",
            "Iteration:  95% 55/58 [00:22<00:01,  2.43it/s]\u001b[A\n",
            "Iteration:  97% 56/58 [00:22<00:00,  2.44it/s]\u001b[A\n",
            "Iteration:  98% 57/58 [00:22<00:00,  2.44it/s]\u001b[A\n",
            "Iteration: 100% 58/58 [00:23<00:00,  2.48it/s]\n",
            "Epoch:  80% 4/5 [01:30<00:22, 22.78s/it]\n",
            "Iteration:   0% 0/58 [00:00<?, ?it/s]\u001b[A\n",
            "Iteration:   2% 1/58 [00:00<00:23,  2.46it/s]\u001b[A\n",
            "Iteration:   3% 2/58 [00:00<00:22,  2.46it/s]\u001b[A\n",
            "Iteration:   5% 3/58 [00:01<00:22,  2.45it/s]\u001b[A\n",
            "Iteration:   7% 4/58 [00:01<00:22,  2.45it/s]\u001b[A\n",
            "Iteration:   9% 5/58 [00:02<00:21,  2.44it/s]\u001b[A\n",
            "Iteration:  10% 6/58 [00:02<00:21,  2.44it/s]\u001b[A\n",
            "Iteration:  12% 7/58 [00:02<00:20,  2.44it/s]\u001b[A\n",
            "Iteration:  14% 8/58 [00:03<00:20,  2.44it/s]\u001b[A\n",
            "Iteration:  16% 9/58 [00:03<00:20,  2.44it/s]\u001b[A\n",
            "Iteration:  17% 10/58 [00:04<00:19,  2.43it/s]\u001b[A\n",
            "Iteration:  19% 11/58 [00:04<00:19,  2.44it/s]\u001b[A\n",
            "Iteration:  21% 12/58 [00:04<00:18,  2.44it/s]\u001b[A\n",
            "Iteration:  22% 13/58 [00:05<00:18,  2.43it/s]\u001b[A\n",
            "Iteration:  24% 14/58 [00:05<00:18,  2.44it/s]\u001b[A\n",
            "Iteration:  26% 15/58 [00:06<00:17,  2.43it/s]\u001b[A\n",
            "Iteration:  28% 16/58 [00:06<00:17,  2.43it/s]\u001b[A\n",
            "Iteration:  29% 17/58 [00:06<00:16,  2.44it/s]\u001b[A\n",
            "Iteration:  31% 18/58 [00:07<00:16,  2.44it/s]\u001b[A\n",
            "Iteration:  33% 19/58 [00:07<00:15,  2.44it/s]\u001b[A\n",
            "Iteration:  34% 20/58 [00:08<00:15,  2.44it/s]\u001b[A\n",
            "Iteration:  36% 21/58 [00:08<00:15,  2.44it/s]\u001b[A\n",
            "Iteration:  38% 22/58 [00:09<00:14,  2.44it/s]\u001b[A\n",
            "Iteration:  40% 23/58 [00:09<00:14,  2.45it/s]\u001b[A\n",
            "Iteration:  41% 24/58 [00:09<00:13,  2.45it/s]\u001b[A\n",
            "Iteration:  43% 25/58 [00:10<00:13,  2.45it/s]\u001b[A\n",
            "Iteration:  45% 26/58 [00:10<00:13,  2.45it/s]\u001b[A\n",
            "Iteration:  47% 27/58 [00:11<00:12,  2.46it/s]\u001b[A\n",
            "Iteration:  48% 28/58 [00:11<00:12,  2.46it/s]\u001b[A\n",
            "Iteration:  50% 29/58 [00:11<00:11,  2.46it/s]\u001b[A\n",
            "Iteration:  52% 30/58 [00:12<00:11,  2.46it/s]\u001b[A\n",
            "Iteration:  53% 31/58 [00:12<00:10,  2.46it/s]\u001b[A\n",
            "Iteration:  55% 32/58 [00:13<00:10,  2.46it/s]\u001b[A\n",
            "Iteration:  57% 33/58 [00:13<00:10,  2.46it/s]\u001b[A\n",
            "Iteration:  59% 34/58 [00:13<00:09,  2.46it/s]\u001b[A\n",
            "Iteration:  60% 35/58 [00:14<00:09,  2.47it/s]\u001b[A\n",
            "Iteration:  62% 36/58 [00:14<00:08,  2.47it/s]\u001b[A\n",
            "Iteration:  64% 37/58 [00:15<00:08,  2.47it/s]\u001b[A\n",
            "Iteration:  66% 38/58 [00:15<00:08,  2.47it/s]\u001b[A\n",
            "Iteration:  67% 39/58 [00:15<00:07,  2.48it/s]\u001b[A\n",
            "Iteration:  69% 40/58 [00:16<00:07,  2.48it/s]\u001b[A\n",
            "Iteration:  71% 41/58 [00:16<00:06,  2.48it/s]\u001b[A\n",
            "Iteration:  72% 42/58 [00:17<00:06,  2.48it/s]\u001b[A\n",
            "Iteration:  74% 43/58 [00:17<00:06,  2.49it/s]\u001b[A\n",
            "Iteration:  76% 44/58 [00:17<00:05,  2.48it/s]\u001b[A\n",
            "Iteration:  78% 45/58 [00:18<00:05,  2.48it/s]\u001b[A\n",
            "Iteration:  79% 46/58 [00:18<00:04,  2.49it/s]\u001b[A\n",
            "Iteration:  81% 47/58 [00:19<00:04,  2.48it/s]\u001b[A\n",
            "Iteration:  83% 48/58 [00:19<00:04,  2.49it/s]\u001b[A\n",
            "Iteration:  84% 49/58 [00:19<00:03,  2.49it/s]\u001b[A\n",
            "Iteration:  86% 50/58 [00:20<00:03,  2.49it/s]\u001b[A\n",
            "Iteration:  88% 51/58 [00:20<00:02,  2.49it/s]\u001b[A\n",
            "Iteration:  90% 52/58 [00:21<00:02,  2.49it/s]\u001b[A\n",
            "Iteration:  91% 53/58 [00:21<00:02,  2.50it/s]\u001b[A\n",
            "Iteration:  93% 54/58 [00:21<00:01,  2.50it/s]\u001b[A\n",
            "Iteration:  95% 55/58 [00:22<00:01,  2.50it/s]\u001b[A\n",
            "Iteration:  97% 56/58 [00:22<00:00,  2.50it/s]\u001b[A\n",
            "Iteration:  98% 57/58 [00:23<00:00,  2.50it/s]\u001b[A\n",
            "Iteration: 100% 58/58 [00:23<00:00,  2.46it/s]\n",
            "Epoch: 100% 5/5 [01:53<00:00, 22.77s/it]\n",
            "Evaluating: 100% 1871/1871 [14:30<00:00,  2.15it/s]\n"
          ]
        }
      ],
      "source": [
        "!export PYTHONPATH=${PYTHONPATH}:/ru-gpts/\n",
        "!CUDA_VISIBLE_DEVICES=0 python3 ru-gpts/pretrain_transformers.py \\\n",
        "    --output_dir=models/essays \\\n",
        "    --model_type=gpt2 \\\n",
        "    --model_name_or_path=sberbank-ai/rugpt3small_based_on_gpt2 \\\n",
        "    --do_train \\\n",
        "    --train_data_file=train.txt \\\n",
        "    --do_eval \\\n",
        "    --eval_data_file=valid.txt \\\n",
        "    --per_gpu_train_batch_size 1 \\\n",
        "    --gradient_accumulation_steps 1 \\\n",
        "    --num_train_epochs 5 \\\n",
        "    --block_size 1024 \\\n",
        "    --overwrite_output_dir"
      ]
    },
    {
      "cell_type": "markdown",
      "source": [
        "Запаковываем модель в архив, для дальнейшего скачивания."
      ],
      "metadata": {
        "id": "1sNkIlji4p_U"
      }
    },
    {
      "cell_type": "code",
      "execution_count": 14,
      "metadata": {
        "colab": {
          "base_uri": "https://localhost:8080/"
        },
        "id": "wVHHwj8pS0xD",
        "outputId": "e8599b67-6e91-4c34-f4ef-574ac67ae596"
      },
      "outputs": [
        {
          "output_type": "stream",
          "name": "stdout",
          "text": [
            "  adding: models/ (stored 0%)\n",
            "  adding: models/essays/ (stored 0%)\n",
            "  adding: models/essays/merges.txt (deflated 76%)\n",
            "  adding: models/essays/vocab.json (deflated 76%)\n",
            "  adding: models/essays/config.json (deflated 48%)\n",
            "  adding: models/essays/eval_results.txt (stored 0%)\n",
            "  adding: models/essays/training_args.bin (deflated 42%)\n",
            "  adding: models/essays/special_tokens_map.json (deflated 72%)\n",
            "  adding: models/essays/tokenizer_config.json (deflated 66%)\n",
            "  adding: models/essays/pytorch_model.bin (deflated 16%)\n"
          ]
        }
      ],
      "source": [
        "!zip -r models.zip models/"
      ]
    },
    {
      "cell_type": "markdown",
      "source": [
        "Проверяем обученную модель."
      ],
      "metadata": {
        "id": "cJTRZl095RJG"
      }
    },
    {
      "cell_type": "code",
      "execution_count": 17,
      "metadata": {
        "colab": {
          "base_uri": "https://localhost:8080/"
        },
        "id": "LRIZ96-ZTiRb",
        "outputId": "72224d07-40fa-4265-a33a-fd4ad143a26e"
      },
      "outputs": [
        {
          "output_type": "stream",
          "name": "stdout",
          "text": [
            "Context >>> лев\n",
            "Setting `pad_token_id` to `eos_token_id`:50256 for open-end generation.\n",
            "ruGPT:\n",
            "левского. Вы знаете, что такое любовь к знаниям.\n",
            "Context >>> дева\n",
            "Setting `pad_token_id` to `eos_token_id`:50256 for open-end generation.\n",
            "ruGPT:\n",
            "дева\n",
            "Вы будете рады, что наконец-то обратили внимание на свое здоровье. Вы не должны забывать о своем желании заниматься спортом и вовремя остановиться.\n",
            "Context >>> Traceback (most recent call last):\n",
            "  File \"ru-gpts/generate_transformers.py\", line 268, in <module>\n",
            "    main()\n",
            "  File \"ru-gpts/generate_transformers.py\", line 213, in main\n",
            "    prompt_text = args.prompt if args.prompt else input(\"Context >>> \")\n",
            "KeyboardInterrupt\n",
            "^C\n"
          ]
        }
      ],
      "source": [
        "!python ru-gpts/generate_transformers.py \\\n",
        "    --model_type=gpt2 \\\n",
        "    --model_name_or_path=models/essays \\\n",
        "    --k=5 \\\n",
        "    --p=0.95 \\\n",
        "    --length=500 \\\n",
        "    --repetition_penalty=5"
      ]
    },
    {
      "cell_type": "markdown",
      "source": [
        "Сгенерируем гороскоп с помощью кода."
      ],
      "metadata": {
        "id": "fHBV24DS5qXh"
      }
    },
    {
      "cell_type": "code",
      "execution_count": 18,
      "metadata": {
        "id": "auL6SCDDUZqd"
      },
      "outputs": [],
      "source": [
        "import numpy as np\n",
        "import torch"
      ]
    },
    {
      "cell_type": "code",
      "execution_count": 19,
      "metadata": {
        "colab": {
          "base_uri": "https://localhost:8080/"
        },
        "id": "kcDuafb2Ubok",
        "outputId": "97c2c402-de6d-4cbd-ec86-f6ff869d049b"
      },
      "outputs": [
        {
          "output_type": "execute_result",
          "data": {
            "text/plain": [
              "<torch._C.Generator at 0x7feefbf9f9f0>"
            ]
          },
          "metadata": {},
          "execution_count": 19
        }
      ],
      "source": [
        "np.random.seed(42)\n",
        "torch.manual_seed(42)"
      ]
    },
    {
      "cell_type": "code",
      "execution_count": 20,
      "metadata": {
        "id": "hb7rJ7ZnUdyJ"
      },
      "outputs": [],
      "source": [
        "from transformers import GPT2LMHeadModel, GPT2Tokenizer"
      ]
    },
    {
      "cell_type": "markdown",
      "source": [
        "Загружаем обученную модель."
      ],
      "metadata": {
        "id": "0J0xXE6i6D7W"
      }
    },
    {
      "cell_type": "code",
      "execution_count": 21,
      "metadata": {
        "id": "8KqOjrI5Uf-U"
      },
      "outputs": [],
      "source": [
        "tok = GPT2Tokenizer.from_pretrained(\"models/essays\")"
      ]
    },
    {
      "cell_type": "code",
      "execution_count": 22,
      "metadata": {
        "id": "_GH6aIsTUk5b"
      },
      "outputs": [],
      "source": [
        "model = GPT2LMHeadModel.from_pretrained(\"models/essays\")"
      ]
    },
    {
      "cell_type": "code",
      "execution_count": 23,
      "metadata": {
        "colab": {
          "base_uri": "https://localhost:8080/"
        },
        "id": "ri-Zl3zpUn4Q",
        "outputId": "69bad7f1-1227-4df5-a5e8-fff6fee0c14f"
      },
      "outputs": [
        {
          "output_type": "execute_result",
          "data": {
            "text/plain": [
              "GPT2LMHeadModel(\n",
              "  (transformer): GPT2Model(\n",
              "    (wte): Embedding(50257, 768)\n",
              "    (wpe): Embedding(2048, 768)\n",
              "    (drop): Dropout(p=0.1, inplace=False)\n",
              "    (h): ModuleList(\n",
              "      (0): Block(\n",
              "        (ln_1): LayerNorm((768,), eps=1e-05, elementwise_affine=True)\n",
              "        (attn): Attention(\n",
              "          (c_attn): Conv1D()\n",
              "          (c_proj): Conv1D()\n",
              "          (attn_dropout): Dropout(p=0.1, inplace=False)\n",
              "          (resid_dropout): Dropout(p=0.1, inplace=False)\n",
              "        )\n",
              "        (ln_2): LayerNorm((768,), eps=1e-05, elementwise_affine=True)\n",
              "        (mlp): MLP(\n",
              "          (c_fc): Conv1D()\n",
              "          (c_proj): Conv1D()\n",
              "          (dropout): Dropout(p=0.1, inplace=False)\n",
              "        )\n",
              "      )\n",
              "      (1): Block(\n",
              "        (ln_1): LayerNorm((768,), eps=1e-05, elementwise_affine=True)\n",
              "        (attn): Attention(\n",
              "          (c_attn): Conv1D()\n",
              "          (c_proj): Conv1D()\n",
              "          (attn_dropout): Dropout(p=0.1, inplace=False)\n",
              "          (resid_dropout): Dropout(p=0.1, inplace=False)\n",
              "        )\n",
              "        (ln_2): LayerNorm((768,), eps=1e-05, elementwise_affine=True)\n",
              "        (mlp): MLP(\n",
              "          (c_fc): Conv1D()\n",
              "          (c_proj): Conv1D()\n",
              "          (dropout): Dropout(p=0.1, inplace=False)\n",
              "        )\n",
              "      )\n",
              "      (2): Block(\n",
              "        (ln_1): LayerNorm((768,), eps=1e-05, elementwise_affine=True)\n",
              "        (attn): Attention(\n",
              "          (c_attn): Conv1D()\n",
              "          (c_proj): Conv1D()\n",
              "          (attn_dropout): Dropout(p=0.1, inplace=False)\n",
              "          (resid_dropout): Dropout(p=0.1, inplace=False)\n",
              "        )\n",
              "        (ln_2): LayerNorm((768,), eps=1e-05, elementwise_affine=True)\n",
              "        (mlp): MLP(\n",
              "          (c_fc): Conv1D()\n",
              "          (c_proj): Conv1D()\n",
              "          (dropout): Dropout(p=0.1, inplace=False)\n",
              "        )\n",
              "      )\n",
              "      (3): Block(\n",
              "        (ln_1): LayerNorm((768,), eps=1e-05, elementwise_affine=True)\n",
              "        (attn): Attention(\n",
              "          (c_attn): Conv1D()\n",
              "          (c_proj): Conv1D()\n",
              "          (attn_dropout): Dropout(p=0.1, inplace=False)\n",
              "          (resid_dropout): Dropout(p=0.1, inplace=False)\n",
              "        )\n",
              "        (ln_2): LayerNorm((768,), eps=1e-05, elementwise_affine=True)\n",
              "        (mlp): MLP(\n",
              "          (c_fc): Conv1D()\n",
              "          (c_proj): Conv1D()\n",
              "          (dropout): Dropout(p=0.1, inplace=False)\n",
              "        )\n",
              "      )\n",
              "      (4): Block(\n",
              "        (ln_1): LayerNorm((768,), eps=1e-05, elementwise_affine=True)\n",
              "        (attn): Attention(\n",
              "          (c_attn): Conv1D()\n",
              "          (c_proj): Conv1D()\n",
              "          (attn_dropout): Dropout(p=0.1, inplace=False)\n",
              "          (resid_dropout): Dropout(p=0.1, inplace=False)\n",
              "        )\n",
              "        (ln_2): LayerNorm((768,), eps=1e-05, elementwise_affine=True)\n",
              "        (mlp): MLP(\n",
              "          (c_fc): Conv1D()\n",
              "          (c_proj): Conv1D()\n",
              "          (dropout): Dropout(p=0.1, inplace=False)\n",
              "        )\n",
              "      )\n",
              "      (5): Block(\n",
              "        (ln_1): LayerNorm((768,), eps=1e-05, elementwise_affine=True)\n",
              "        (attn): Attention(\n",
              "          (c_attn): Conv1D()\n",
              "          (c_proj): Conv1D()\n",
              "          (attn_dropout): Dropout(p=0.1, inplace=False)\n",
              "          (resid_dropout): Dropout(p=0.1, inplace=False)\n",
              "        )\n",
              "        (ln_2): LayerNorm((768,), eps=1e-05, elementwise_affine=True)\n",
              "        (mlp): MLP(\n",
              "          (c_fc): Conv1D()\n",
              "          (c_proj): Conv1D()\n",
              "          (dropout): Dropout(p=0.1, inplace=False)\n",
              "        )\n",
              "      )\n",
              "      (6): Block(\n",
              "        (ln_1): LayerNorm((768,), eps=1e-05, elementwise_affine=True)\n",
              "        (attn): Attention(\n",
              "          (c_attn): Conv1D()\n",
              "          (c_proj): Conv1D()\n",
              "          (attn_dropout): Dropout(p=0.1, inplace=False)\n",
              "          (resid_dropout): Dropout(p=0.1, inplace=False)\n",
              "        )\n",
              "        (ln_2): LayerNorm((768,), eps=1e-05, elementwise_affine=True)\n",
              "        (mlp): MLP(\n",
              "          (c_fc): Conv1D()\n",
              "          (c_proj): Conv1D()\n",
              "          (dropout): Dropout(p=0.1, inplace=False)\n",
              "        )\n",
              "      )\n",
              "      (7): Block(\n",
              "        (ln_1): LayerNorm((768,), eps=1e-05, elementwise_affine=True)\n",
              "        (attn): Attention(\n",
              "          (c_attn): Conv1D()\n",
              "          (c_proj): Conv1D()\n",
              "          (attn_dropout): Dropout(p=0.1, inplace=False)\n",
              "          (resid_dropout): Dropout(p=0.1, inplace=False)\n",
              "        )\n",
              "        (ln_2): LayerNorm((768,), eps=1e-05, elementwise_affine=True)\n",
              "        (mlp): MLP(\n",
              "          (c_fc): Conv1D()\n",
              "          (c_proj): Conv1D()\n",
              "          (dropout): Dropout(p=0.1, inplace=False)\n",
              "        )\n",
              "      )\n",
              "      (8): Block(\n",
              "        (ln_1): LayerNorm((768,), eps=1e-05, elementwise_affine=True)\n",
              "        (attn): Attention(\n",
              "          (c_attn): Conv1D()\n",
              "          (c_proj): Conv1D()\n",
              "          (attn_dropout): Dropout(p=0.1, inplace=False)\n",
              "          (resid_dropout): Dropout(p=0.1, inplace=False)\n",
              "        )\n",
              "        (ln_2): LayerNorm((768,), eps=1e-05, elementwise_affine=True)\n",
              "        (mlp): MLP(\n",
              "          (c_fc): Conv1D()\n",
              "          (c_proj): Conv1D()\n",
              "          (dropout): Dropout(p=0.1, inplace=False)\n",
              "        )\n",
              "      )\n",
              "      (9): Block(\n",
              "        (ln_1): LayerNorm((768,), eps=1e-05, elementwise_affine=True)\n",
              "        (attn): Attention(\n",
              "          (c_attn): Conv1D()\n",
              "          (c_proj): Conv1D()\n",
              "          (attn_dropout): Dropout(p=0.1, inplace=False)\n",
              "          (resid_dropout): Dropout(p=0.1, inplace=False)\n",
              "        )\n",
              "        (ln_2): LayerNorm((768,), eps=1e-05, elementwise_affine=True)\n",
              "        (mlp): MLP(\n",
              "          (c_fc): Conv1D()\n",
              "          (c_proj): Conv1D()\n",
              "          (dropout): Dropout(p=0.1, inplace=False)\n",
              "        )\n",
              "      )\n",
              "      (10): Block(\n",
              "        (ln_1): LayerNorm((768,), eps=1e-05, elementwise_affine=True)\n",
              "        (attn): Attention(\n",
              "          (c_attn): Conv1D()\n",
              "          (c_proj): Conv1D()\n",
              "          (attn_dropout): Dropout(p=0.1, inplace=False)\n",
              "          (resid_dropout): Dropout(p=0.1, inplace=False)\n",
              "        )\n",
              "        (ln_2): LayerNorm((768,), eps=1e-05, elementwise_affine=True)\n",
              "        (mlp): MLP(\n",
              "          (c_fc): Conv1D()\n",
              "          (c_proj): Conv1D()\n",
              "          (dropout): Dropout(p=0.1, inplace=False)\n",
              "        )\n",
              "      )\n",
              "      (11): Block(\n",
              "        (ln_1): LayerNorm((768,), eps=1e-05, elementwise_affine=True)\n",
              "        (attn): Attention(\n",
              "          (c_attn): Conv1D()\n",
              "          (c_proj): Conv1D()\n",
              "          (attn_dropout): Dropout(p=0.1, inplace=False)\n",
              "          (resid_dropout): Dropout(p=0.1, inplace=False)\n",
              "        )\n",
              "        (ln_2): LayerNorm((768,), eps=1e-05, elementwise_affine=True)\n",
              "        (mlp): MLP(\n",
              "          (c_fc): Conv1D()\n",
              "          (c_proj): Conv1D()\n",
              "          (dropout): Dropout(p=0.1, inplace=False)\n",
              "        )\n",
              "      )\n",
              "    )\n",
              "    (ln_f): LayerNorm((768,), eps=1e-05, elementwise_affine=True)\n",
              "  )\n",
              "  (lm_head): Linear(in_features=768, out_features=50257, bias=False)\n",
              ")"
            ]
          },
          "metadata": {},
          "execution_count": 23
        }
      ],
      "source": [
        "model.cuda()"
      ]
    },
    {
      "cell_type": "markdown",
      "source": [
        "В качестве \"затравки\" передаем знак зодиака."
      ],
      "metadata": {
        "id": "Mxu6cCfl6YJV"
      }
    },
    {
      "cell_type": "code",
      "execution_count": 24,
      "metadata": {
        "id": "p96-ZflDUqfp"
      },
      "outputs": [],
      "source": [
        "text = \"<s>лев\\n\"\n",
        "inpt = tok.encode(text, return_tensors=\"pt\")"
      ]
    },
    {
      "cell_type": "markdown",
      "source": [
        "Генерируем гороскоп на основе знака зодиака."
      ],
      "metadata": {
        "id": "zn9Vldqa6q76"
      }
    },
    {
      "cell_type": "code",
      "execution_count": 25,
      "metadata": {
        "colab": {
          "base_uri": "https://localhost:8080/"
        },
        "id": "41EJrTVeVNZU",
        "outputId": "4fc9c62d-2690-4366-fa08-79373ba52654"
      },
      "outputs": [
        {
          "output_type": "stream",
          "name": "stderr",
          "text": [
            "Setting `pad_token_id` to `eos_token_id`:50256 for open-end generation.\n"
          ]
        }
      ],
      "source": [
        "out = model.generate(inpt.cuda(), max_length=200, repetition_penalty=5.0, do_sample=True, top_k=5, top_p=0.95, temperature=1)"
      ]
    },
    {
      "cell_type": "markdown",
      "source": [
        "Так как в сгенирируемом тексте присутствует \"мусор\", то распарсим его"
      ],
      "metadata": {
        "id": "ZD-Ef_NH6xiT"
      }
    },
    {
      "cell_type": "code",
      "execution_count": 26,
      "metadata": {
        "colab": {
          "base_uri": "https://localhost:8080/"
        },
        "id": "Ssw7WCn4VS3N",
        "outputId": "2da490fa-c37e-47bd-8a30-819d0f3d82af"
      },
      "outputs": [
        {
          "output_type": "stream",
          "name": "stdout",
          "text": [
            "лев\n",
            "Вы можете встретить человека, который вам дорог. Не пугайтесь - это будет ваш самый лучший день в жизни.\n"
          ]
        }
      ],
      "source": [
        "print(tok.decode(out[0]).split(\"</s\")[0].replace('<s>', ''))"
      ]
    },
    {
      "cell_type": "markdown",
      "source": [
        "Загружаем модель на гугл диск."
      ],
      "metadata": {
        "id": "n_35Mpt67IUV"
      }
    },
    {
      "cell_type": "code",
      "execution_count": 27,
      "metadata": {
        "colab": {
          "base_uri": "https://localhost:8080/"
        },
        "id": "EDlVssogXyKz",
        "outputId": "d4c8bc02-2499-4df0-ba40-824f829bb049"
      },
      "outputs": [
        {
          "output_type": "stream",
          "name": "stdout",
          "text": [
            "Mounted at /content/drive\n"
          ]
        }
      ],
      "source": [
        "from google.colab import drive\n",
        "drive.mount('/content/drive')"
      ]
    },
    {
      "cell_type": "code",
      "execution_count": 28,
      "metadata": {
        "id": "2h5adnBJX8Ex"
      },
      "outputs": [],
      "source": [
        "!cp models.zip /content/drive/MyDrive"
      ]
    }
  ],
  "metadata": {
    "accelerator": "GPU",
    "colab": {
      "collapsed_sections": [],
      "provenance": []
    },
    "kernelspec": {
      "display_name": "Python 3",
      "language": "python",
      "name": "python3"
    },
    "language_info": {
      "codemirror_mode": {
        "name": "ipython",
        "version": 3
      },
      "file_extension": ".py",
      "mimetype": "text/x-python",
      "name": "python",
      "nbconvert_exporter": "python",
      "pygments_lexer": "ipython3",
      "version": "3.8.10"
    },
    "vscode": {
      "interpreter": {
        "hash": "916dbcbb3f70747c44a77c7bcd40155683ae19c65e1c03b4aa3499c5328201f1"
      }
    }
  },
  "nbformat": 4,
  "nbformat_minor": 0
}